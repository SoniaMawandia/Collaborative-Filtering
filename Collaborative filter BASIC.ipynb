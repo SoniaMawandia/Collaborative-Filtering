{
 "cells": [
  {
   "cell_type": "markdown",
   "metadata": {},
   "source": [
    "# Importing the necessary Libraries"
   ]
  },
  {
   "cell_type": "code",
   "execution_count": 147,
   "metadata": {},
   "outputs": [],
   "source": [
    "import pandas as pd\n",
    "import numpy as np\n",
    "from math import sqrt"
   ]
  },
  {
   "cell_type": "markdown",
   "metadata": {},
   "source": [
    "# Function to calculate the pearson correlation between 2 vectors\n"
   ]
  },
  {
   "cell_type": "code",
   "execution_count": 148,
   "metadata": {},
   "outputs": [],
   "source": [
    "'''\n",
    "This function is the core of the calculating pearson correlation between 2 users based on the movies they have rated.\n",
    "It uses the pearson correlation formula as \n",
    "\n",
    "pearson coeff = sum((x-x_avg)*(y-y_avg))/sqrt((sum(square(x-x_avg)))*(sum(square(y-y_avg))))\n",
    "\n",
    "\n",
    "'''\n",
    "def pearson_def(x, y):\n",
    "    #print(x)\n",
    "    #print(y)\n",
    "    assert len(x) == len(y)\n",
    "    n = len(x)\n",
    "    if(n==0):\n",
    "        return 0\n",
    "    avg_x = np.average(x)\n",
    "    avg_y = np.average(y)\n",
    "    diffprod = 0\n",
    "    xdiff2 = 0\n",
    "    ydiff2 = 0\n",
    "    for idx in range(n):\n",
    "        xdiff = x[idx] - avg_x\n",
    "        ydiff = y[idx] - avg_y\n",
    "        diffprod += xdiff * ydiff\n",
    "        xdiff2 += xdiff * xdiff\n",
    "        ydiff2 += ydiff * ydiff\n",
    "    if(xdiff2 == np.float64(0)  or ydiff2 == np.float64(0)):\n",
    "        return 0\n",
    "    return diffprod / sqrt(xdiff2 * ydiff2)"
   ]
  },
  {
   "cell_type": "markdown",
   "metadata": {},
   "source": [
    "# Data Preparation to calculate the pearson correlation"
   ]
  },
  {
   "cell_type": "code",
   "execution_count": 149,
   "metadata": {},
   "outputs": [],
   "source": [
    "\n",
    "def pearson_correlation(p1,p2,df,usercolname, itemcolname, ratingColName):\n",
    "\n",
    "    # To get both rated items\n",
    "    both_rated = {}\n",
    "    dataset1 = df[(df[usercolname] == p1)]\n",
    "    dataset2 = df[(df[usercolname] == p2)]\n",
    "    #print(dataset1)\n",
    "    #print(dataset2)\n",
    "    \n",
    "    a = [item for item in dataset1[itemcolname]]\n",
    "    b = [item for item in dataset2[itemcolname]]\n",
    "    bothrated = [item for item in a if item in b]\n",
    "    #print(bothrated)\n",
    "    \n",
    "    number_of_ratings = len(bothrated)\n",
    "    #print(number_of_ratings)\n",
    "    if number_of_ratings == 0:\n",
    "        return 0\n",
    "    \n",
    "    #print(dataset1[(dataset1[itemcolname] == 405)].iloc[0]['rating'])\n",
    "    p1_arr = [dataset1[(dataset1[itemcolname] == item)].iloc[0][ratingColName] for item in bothrated]\n",
    "    p2_arr = [dataset2[(dataset2[itemcolname] ==item)].iloc[0][ratingColName] for item in bothrated]\n",
    "    #print(p1_arr)\n",
    "    #print(p2_arr)\n",
    "    retval = pearson_def(p1_arr,p2_arr)\n",
    "    return retval"
   ]
  },
  {
   "cell_type": "code",
   "execution_count": 150,
   "metadata": {},
   "outputs": [],
   "source": [
    "r_cols = ['user_id', 'movie_id', 'rating', 'unix_timestamp']\n",
    "ratings = pd.read_csv('u.data', sep='\\t', names=r_cols,encoding='latin-1')"
   ]
  },
  {
   "cell_type": "code",
   "execution_count": 151,
   "metadata": {},
   "outputs": [
    {
     "data": {
      "text/html": [
       "<div>\n",
       "<style scoped>\n",
       "    .dataframe tbody tr th:only-of-type {\n",
       "        vertical-align: middle;\n",
       "    }\n",
       "\n",
       "    .dataframe tbody tr th {\n",
       "        vertical-align: top;\n",
       "    }\n",
       "\n",
       "    .dataframe thead th {\n",
       "        text-align: right;\n",
       "    }\n",
       "</style>\n",
       "<table border=\"1\" class=\"dataframe\">\n",
       "  <thead>\n",
       "    <tr style=\"text-align: right;\">\n",
       "      <th></th>\n",
       "      <th>user_id</th>\n",
       "      <th>movie_id</th>\n",
       "      <th>rating</th>\n",
       "      <th>unix_timestamp</th>\n",
       "    </tr>\n",
       "  </thead>\n",
       "  <tbody>\n",
       "    <tr>\n",
       "      <th>0</th>\n",
       "      <td>196</td>\n",
       "      <td>242</td>\n",
       "      <td>3</td>\n",
       "      <td>881250949</td>\n",
       "    </tr>\n",
       "    <tr>\n",
       "      <th>1</th>\n",
       "      <td>186</td>\n",
       "      <td>302</td>\n",
       "      <td>3</td>\n",
       "      <td>891717742</td>\n",
       "    </tr>\n",
       "    <tr>\n",
       "      <th>2</th>\n",
       "      <td>22</td>\n",
       "      <td>377</td>\n",
       "      <td>1</td>\n",
       "      <td>878887116</td>\n",
       "    </tr>\n",
       "    <tr>\n",
       "      <th>3</th>\n",
       "      <td>244</td>\n",
       "      <td>51</td>\n",
       "      <td>2</td>\n",
       "      <td>880606923</td>\n",
       "    </tr>\n",
       "    <tr>\n",
       "      <th>4</th>\n",
       "      <td>166</td>\n",
       "      <td>346</td>\n",
       "      <td>1</td>\n",
       "      <td>886397596</td>\n",
       "    </tr>\n",
       "  </tbody>\n",
       "</table>\n",
       "</div>"
      ],
      "text/plain": [
       "   user_id  movie_id  rating  unix_timestamp\n",
       "0      196       242       3       881250949\n",
       "1      186       302       3       891717742\n",
       "2       22       377       1       878887116\n",
       "3      244        51       2       880606923\n",
       "4      166       346       1       886397596"
      ]
     },
     "execution_count": 151,
     "metadata": {},
     "output_type": "execute_result"
    }
   ],
   "source": [
    "ratings.head()"
   ]
  },
  {
   "cell_type": "markdown",
   "metadata": {},
   "source": [
    "# Testing the pearson calculations method"
   ]
  },
  {
   "cell_type": "code",
   "execution_count": 153,
   "metadata": {},
   "outputs": [
    {
     "data": {
      "text/plain": [
       "0"
      ]
     },
     "execution_count": 153,
     "metadata": {},
     "output_type": "execute_result"
    }
   ],
   "source": [
    "pearson_correlation(84,122,ratings,'user_id','movie_id', 'rating')"
   ]
  },
  {
   "cell_type": "markdown",
   "metadata": {},
   "source": [
    "# Using the pearson correlation find n_neighbor number of similar users"
   ]
  },
  {
   "cell_type": "code",
   "execution_count": 198,
   "metadata": {},
   "outputs": [],
   "source": [
    "def most_similar_users(person,n_neighbors,df,usercolname, itemcolname, ratingColName):\n",
    "    persondata = df[usercolname].unique()\n",
    "    #print(persondata)\n",
    "\t# returns the number_of_users (similar persons) for a given specific person.\n",
    "    scores = [(pearson_correlation(person,other_person,df,usercolname, itemcolname, ratingColName),other_person) for\\\n",
    "              other_person in persondata if  other_person != person ]\n",
    "\t\n",
    "\t# Sort the similar persons so that highest scores person will appear at the first\n",
    "    scores.sort()\n",
    "    scores.reverse()\n",
    "    return scores[0:n_neighbors]\n",
    "\n"
   ]
  },
  {
   "cell_type": "code",
   "execution_count": 172,
   "metadata": {},
   "outputs": [
    {
     "name": "stdout",
     "output_type": "stream",
     "text": [
      "[(1.0, 720)]\n"
     ]
    }
   ],
   "source": [
    "print(most_similar_users(84,1,ratings,'user_id','movie_id', 'rating'))"
   ]
  },
  {
   "cell_type": "markdown",
   "metadata": {},
   "source": [
    "# After finding similar users find recommendation of the movies"
   ]
  },
  {
   "cell_type": "code",
   "execution_count": 192,
   "metadata": {},
   "outputs": [],
   "source": [
    "def user_reommendations(person,k, df,usercolname, itemcolname, ratingColName):\n",
    "\n",
    "\t# Gets recommendations for a person by using a weighted average of every other user's rankings\n",
    "    similar_users = most_similar_users(person,k,df,usercolname, itemcolname, ratingColName)\n",
    "    #get users who are similar in the list\n",
    "    similar_users1 = [user for user in similar_users if  user[0] > 0 ]\n",
    "    \n",
    "    totals = {}\n",
    "    simSums = {}\n",
    "    dataset = df[(df[usercolname] == person)]\n",
    "    #print(similar_users1)\n",
    "    for val in similar_users1:\n",
    "        sim = val[0]\n",
    "        user = val[1]\n",
    "        #print(sim)\n",
    "        #print(user)\n",
    "        dataset1 = df[(df[usercolname] == user)]\n",
    "        for index, row in dataset1.iterrows():\n",
    "            # only score movies i haven't seen yet\n",
    "            item = row[itemcolname]\n",
    "            #print(item)\n",
    "            if item not in dataset[itemcolname] :\n",
    "                # Similrity * score\n",
    "                totals.setdefault(item,0)\n",
    "                #multiply the users and the item by similarity score and add it to total for that item\n",
    "                rating = row[ratingColName]\n",
    "                #print(\"%s :%d\"%(item,rating* sim))                \n",
    "                totals[item] += rating* sim\n",
    "                # sum of similarities\n",
    "                simSums.setdefault(item,0)\n",
    "                #add all similarities for demominator \n",
    "                simSums[item]+= sim\n",
    "    \n",
    "\n",
    "    # Create the normalized list  \n",
    "    #print(simSums)\n",
    "    #print(totals)\n",
    "    rankings = [(total/simSums[item],item) for item,total in totals.items()]\n",
    "    rankings.sort()\n",
    "    rankings.reverse()\n",
    "    # returns the recommended items\n",
    "    #recommendataions_list = [recommend_item for score,recommend_item in rankings[:10]]\n",
    "    return rankings[:20]\n",
    "    #return recommendataions_list\n",
    "#user_reommendations('Toby',6)"
   ]
  },
  {
   "cell_type": "markdown",
   "metadata": {},
   "source": [
    "# Find movie recommendations for user id 86"
   ]
  },
  {
   "cell_type": "code",
   "execution_count": 194,
   "metadata": {},
   "outputs": [
    {
     "name": "stdout",
     "output_type": "stream",
     "text": [
      "[(5.0, 1277), (5.0, 1017), (5.0, 1012), (5.0, 949), (5.0, 919), (5.0, 741), (5.0, 740), (5.0, 713), (5.0, 696), (5.0, 475), (5.0, 432), (5.0, 427), (5.0, 340), (5.0, 334), (5.0, 333), (5.0, 295), (5.0, 273), (5.0, 265), (5.0, 202), (5.0, 181)]\n"
     ]
    }
   ],
   "source": [
    "print(user_reommendations(86,3,ratings,'user_id','movie_id', 'rating'))"
   ]
  },
  {
   "cell_type": "markdown",
   "metadata": {},
   "source": [
    "# Find users to which movie 86 can be recommended\n",
    "Since the methods above are generic just by swapping the users column with the movie column we can perform collaborative filtering for the movies"
   ]
  },
  {
   "cell_type": "code",
   "execution_count": 199,
   "metadata": {},
   "outputs": [
    {
     "name": "stdout",
     "output_type": "stream",
     "text": [
      "[(5.0, 889), (5.0, 519), (5.0, 440), (4.0, 655), (4.0, 445), (3.0, 883), (3.0, 782), (3.0, 486), (1.0, 724), (1.0, 405)]\n"
     ]
    }
   ],
   "source": [
    "print(user_reommendations(86,3,ratings,'movie_id','user_id', 'rating'))"
   ]
  }
 ],
 "metadata": {
  "kernelspec": {
   "display_name": "Python [conda env:Anaconda3]",
   "language": "python",
   "name": "conda-env-Anaconda3-py"
  },
  "language_info": {
   "codemirror_mode": {
    "name": "ipython",
    "version": 3
   },
   "file_extension": ".py",
   "mimetype": "text/x-python",
   "name": "python",
   "nbconvert_exporter": "python",
   "pygments_lexer": "ipython3",
   "version": "3.6.6"
  }
 },
 "nbformat": 4,
 "nbformat_minor": 2
}
